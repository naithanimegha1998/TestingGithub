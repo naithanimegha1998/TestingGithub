{
 "cells": [
  {
   "cell_type": "code",
   "execution_count": 1,
   "metadata": {},
   "outputs": [],
   "source": [
    "import numpy as np"
   ]
  },
  {
   "cell_type": "code",
   "execution_count": 2,
   "metadata": {},
   "outputs": [],
   "source": [
    "A=[6, -5, 3, -7, 6, -1, 10, -8, -8, 8]"
   ]
  },
  {
   "cell_type": "code",
   "execution_count": 3,
   "metadata": {},
   "outputs": [],
   "source": [
    "A=np.array(A)\n",
    "best=np.zeros((10,10))"
   ]
  },
  {
   "cell_type": "code",
   "execution_count": 4,
   "metadata": {},
   "outputs": [],
   "source": [
    "# for all base condition where drop =0\n",
    "for i in range(10):\n",
    "    best[i][0]=max([sum(A[j:i+1]) for j in range(i+1)])\n",
    "    "
   ]
  },
  {
   "cell_type": "code",
   "execution_count": 5,
   "metadata": {},
   "outputs": [],
   "source": [
    "def calc_sum(ar,n):\n",
    "    while(n!=0):\n",
    "        ar=np.delete(ar, ar.argmin())\n",
    "        n=n-1\n",
    "    return sum(ar)    \n",
    "    "
   ]
  },
  {
   "cell_type": "code",
   "execution_count": 6,
   "metadata": {},
   "outputs": [],
   "source": [
    "for r in range(10):\n",
    "    for c in range(1,10):\n",
    "        if(c<r):\n",
    "            best[r][c]=max(best[r][c-1], calc_sum(A[:r+1],c))"
   ]
  },
  {
   "cell_type": "code",
   "execution_count": 7,
   "metadata": {},
   "outputs": [
    {
     "data": {
      "text/plain": [
       "array([[ 6.,  0.,  0.,  0.,  0.,  0.,  0.,  0.,  0.,  0.],\n",
       "       [ 1.,  0.,  0.,  0.,  0.,  0.,  0.,  0.,  0.,  0.],\n",
       "       [ 4.,  9.,  0.,  0.,  0.,  0.,  0.,  0.,  0.,  0.],\n",
       "       [-3.,  4.,  9.,  0.,  0.,  0.,  0.,  0.,  0.,  0.],\n",
       "       [ 6., 10., 15., 15.,  0.,  0.,  0.,  0.,  0.,  0.],\n",
       "       [ 5.,  9., 14., 15., 15.,  0.,  0.,  0.,  0.,  0.],\n",
       "       [15., 19., 24., 25., 25., 25.,  0.,  0.,  0.,  0.],\n",
       "       [ 7., 12., 19., 24., 25., 25., 25.,  0.,  0.,  0.],\n",
       "       [-1.,  4., 12., 19., 24., 25., 25., 25.,  0.,  0.],\n",
       "       [ 8., 12., 20., 27., 32., 33., 33., 33., 33.,  0.]])"
      ]
     },
     "execution_count": 7,
     "metadata": {},
     "output_type": "execute_result"
    }
   ],
   "source": [
    "best"
   ]
  },
  {
   "cell_type": "code",
   "execution_count": 8,
   "metadata": {},
   "outputs": [],
   "source": [
    "def extract(best,k):\n",
    "    return max(best[:,k])\n",
    "    "
   ]
  },
  {
   "cell_type": "code",
   "execution_count": 10,
   "metadata": {},
   "outputs": [
    {
     "data": {
      "text/plain": [
       "24.0"
      ]
     },
     "execution_count": 10,
     "metadata": {},
     "output_type": "execute_result"
    }
   ],
   "source": [
    "extract(best,2)"
   ]
  },
  {
   "cell_type": "code",
   "execution_count": null,
   "metadata": {},
   "outputs": [],
   "source": []
  }
 ],
 "metadata": {
  "kernelspec": {
   "display_name": "Python 3",
   "language": "python",
   "name": "python3"
  },
  "language_info": {
   "codemirror_mode": {
    "name": "ipython",
    "version": 3
   },
   "file_extension": ".py",
   "mimetype": "text/x-python",
   "name": "python",
   "nbconvert_exporter": "python",
   "pygments_lexer": "ipython3",
   "version": "3.6.8"
  }
 },
 "nbformat": 4,
 "nbformat_minor": 2
}
